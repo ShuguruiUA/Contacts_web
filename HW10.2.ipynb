{
  "nbformat": 4,
  "nbformat_minor": 0,
  "metadata": {
    "colab": {
      "provenance": [],
      "gpuType": "V28",
      "authorship_tag": "ABX9TyOxBeFri2kPLIMqsbLuxosD"
    },
    "kernelspec": {
      "name": "python3",
      "display_name": "Python 3"
    },
    "language_info": {
      "name": "python"
    },
    "accelerator": "TPU"
  },
  "cells": [
    {
      "cell_type": "code",
      "execution_count": 1,
      "metadata": {
        "id": "7gr2XxjlWBwo"
      },
      "outputs": [],
      "source": [
        "import tensorflow as tf\n",
        "from keras.applications import VGG16\n",
        "from keras import models, layers\n",
        "from keras.optimizers import RMSprop\n",
        "import numpy as np\n",
        "from tensorflow.keras.datasets import fashion_mnist"
      ]
    },
    {
      "cell_type": "code",
      "source": [
        "# Завантаження датасету Fashion MNIST\n",
        "(x_train, y_train), (x_test, y_test) = fashion_mnist.load_data()\n",
        "\n",
        "\n",
        "x_train = x_train / 255.0\n",
        "x_test = x_test / 255.0\n",
        "\n",
        "\n",
        "# Expand dimensions to add the channel dimension (should be (num_samples, height, width, 1))\n",
        "x_train = np.expand_dims(x_train, axis=-1)\n",
        "x_test = np.expand_dims(x_test, axis=-1)\n",
        "\n",
        "# Repeat the single channel to get 3 channels (RGB)\n",
        "x_train = np.repeat(x_train, 3, axis=-1)\n",
        "x_test = np.repeat(x_test, 3, axis=-1)\n",
        "\n",
        "# Convert to tensors\n",
        "x_train = tf.convert_to_tensor(x_train, dtype=tf.float32)\n",
        "x_test = tf.convert_to_tensor(x_test, dtype=tf.float32)\n",
        "\n",
        "# Resize the images to 48x48 for VGG16\n",
        "x_train = tf.image.resize(x_train, (48, 48))\n",
        "x_test = tf.image.resize(x_test, (48, 48))"
      ],
      "metadata": {
        "id": "d8JoUbtUYsOV"
      },
      "execution_count": 10,
      "outputs": []
    },
    {
      "cell_type": "code",
      "source": [
        "from keras.preprocessing.image import ImageDataGenerator\n",
        "datagen = ImageDataGenerator(\n",
        "    rotation_range=20,\n",
        "    width_shift_range=0.2,\n",
        "    height_shift_range=0.2,\n",
        "    shear_range=0.2,\n",
        "    zoom_range=0.2,\n",
        "    horizontal_flip=True,\n",
        "    fill_mode=\"nearest\"\n",
        ")\n",
        "\n",
        "datagen.fit(x_train)"
      ],
      "metadata": {
        "id": "ejIXeaSgZYt2"
      },
      "execution_count": 13,
      "outputs": []
    },
    {
      "cell_type": "code",
      "source": [
        "# Завантаження базової моделі VGG16 з предтренованими вагами ImageNet\n",
        "base_model = VGG16(input_shape=(48, 48, 3),\n",
        "                                include_top=False,\n",
        "                                weights=\"imagenet\")\n",
        "\n",
        "base_model.trainable = False\n",
        "\n",
        "# Додавання власних повнозв'язних шарів\n",
        "model = models.Sequential([\n",
        "    base_model,\n",
        "    layers.Flatten(),\n",
        "    layers.Dense(256, activation=\"relu\"),\n",
        "    layers.Dropout(0.3),\n",
        "    layers.Dense(10, activation=\"softmax\")\n",
        "])"
      ],
      "metadata": {
        "colab": {
          "base_uri": "https://localhost:8080/"
        },
        "id": "f9Dibt7eZfmZ",
        "outputId": "a310017d-2a9f-4913-a994-6c4375b38a26"
      },
      "execution_count": 15,
      "outputs": [
        {
          "output_type": "stream",
          "name": "stdout",
          "text": [
            "Downloading data from https://storage.googleapis.com/tensorflow/keras-applications/vgg16/vgg16_weights_tf_dim_ordering_tf_kernels_notop.h5\n",
            "58889256/58889256 [==============================] - 0s 0us/step\n"
          ]
        }
      ]
    },
    {
      "cell_type": "code",
      "source": [
        "model.compile(optimizer=RMSprop(learning_rate=1e-4),\n",
        "              loss=\"sparse_categorical_crossentropy\",\n",
        "              metrics=[\"accuracy\"])"
      ],
      "metadata": {
        "id": "yN0A6fQ9ZvZx"
      },
      "execution_count": 17,
      "outputs": []
    },
    {
      "cell_type": "code",
      "source": [
        "history = model.fit(x_train, y_train, epochs=10,\n",
        "                    validation_data=(x_test, y_test))"
      ],
      "metadata": {
        "colab": {
          "base_uri": "https://localhost:8080/"
        },
        "id": "1AKel44gZ3L5",
        "outputId": "658fcfa1-ef3e-40b9-8d55-eadb5b0f87fb"
      },
      "execution_count": 18,
      "outputs": [
        {
          "output_type": "stream",
          "name": "stdout",
          "text": [
            "Epoch 1/10\n",
            "1875/1875 [==============================] - 135s 72ms/step - loss: 0.8358 - accuracy: 0.7265 - val_loss: 0.5459 - val_accuracy: 0.8043\n",
            "Epoch 2/10\n",
            "1875/1875 [==============================] - 136s 73ms/step - loss: 0.5259 - accuracy: 0.8126 - val_loss: 0.4781 - val_accuracy: 0.8276\n",
            "Epoch 3/10\n",
            "1875/1875 [==============================] - 136s 72ms/step - loss: 0.4724 - accuracy: 0.8314 - val_loss: 0.4471 - val_accuracy: 0.8377\n",
            "Epoch 4/10\n",
            "1875/1875 [==============================] - 137s 73ms/step - loss: 0.4420 - accuracy: 0.8412 - val_loss: 0.4292 - val_accuracy: 0.8459\n",
            "Epoch 5/10\n",
            "1875/1875 [==============================] - 137s 73ms/step - loss: 0.4211 - accuracy: 0.8475 - val_loss: 0.4131 - val_accuracy: 0.8521\n",
            "Epoch 6/10\n",
            "1875/1875 [==============================] - 137s 73ms/step - loss: 0.4057 - accuracy: 0.8539 - val_loss: 0.4024 - val_accuracy: 0.8570\n",
            "Epoch 7/10\n",
            "1875/1875 [==============================] - 135s 72ms/step - loss: 0.3921 - accuracy: 0.8594 - val_loss: 0.3947 - val_accuracy: 0.8605\n",
            "Epoch 8/10\n",
            "1875/1875 [==============================] - 136s 73ms/step - loss: 0.3823 - accuracy: 0.8622 - val_loss: 0.3904 - val_accuracy: 0.8603\n",
            "Epoch 9/10\n",
            "1875/1875 [==============================] - 136s 72ms/step - loss: 0.3736 - accuracy: 0.8654 - val_loss: 0.3857 - val_accuracy: 0.8641\n",
            "Epoch 10/10\n",
            "1875/1875 [==============================] - 137s 73ms/step - loss: 0.3662 - accuracy: 0.8669 - val_loss: 0.3810 - val_accuracy: 0.8637\n"
          ]
        }
      ]
    },
    {
      "cell_type": "code",
      "source": [
        "base_model.trainable = True\n",
        "set_trainable = False\n",
        "for layer in base_model.layers:\n",
        "  if layer.name == \"block5_conv1\":\n",
        "    set_trainable = True\n",
        "  layer.trainable = set_trainable"
      ],
      "metadata": {
        "id": "MSj8v4LBbxqX"
      },
      "execution_count": 21,
      "outputs": []
    },
    {
      "cell_type": "code",
      "source": [
        "fine_model = models.Sequential([\n",
        "    base_model,\n",
        "    layers.Flatten(),\n",
        "    layers.Dense(256, activation=\"relu\"),\n",
        "    layers.Dropout(0.3),\n",
        "    layers.Dense(10, activation=\"softmax\")\n",
        "])"
      ],
      "metadata": {
        "id": "cNsWf1H5ejRT"
      },
      "execution_count": 22,
      "outputs": []
    },
    {
      "cell_type": "code",
      "source": [
        "fine_model.compile(optimizer=RMSprop(learning_rate=1e-4),\n",
        "              loss=\"sparse_categorical_crossentropy\",\n",
        "              metrics=[\"accuracy\"])"
      ],
      "metadata": {
        "id": "LdvSfZyhep9h"
      },
      "execution_count": 23,
      "outputs": []
    },
    {
      "cell_type": "code",
      "source": [
        "fine_history = fine_model.fit(x_train, y_train, epochs=10, validation_data=(x_test, y_test))"
      ],
      "metadata": {
        "colab": {
          "base_uri": "https://localhost:8080/"
        },
        "id": "-WAB6wjHgtwB",
        "outputId": "79bd6790-ee79-46ac-f7ba-dd3902d894d1"
      },
      "execution_count": 25,
      "outputs": [
        {
          "output_type": "stream",
          "name": "stdout",
          "text": [
            "Epoch 1/10\n",
            "1875/1875 [==============================] - 223s 118ms/step - loss: 0.3901 - accuracy: 0.8630 - val_loss: 0.3596 - val_accuracy: 0.8825\n",
            "Epoch 2/10\n",
            "1875/1875 [==============================] - 216s 115ms/step - loss: 0.2818 - accuracy: 0.9006 - val_loss: 0.2893 - val_accuracy: 0.9057\n",
            "Epoch 3/10\n",
            "1875/1875 [==============================] - 214s 114ms/step - loss: 0.2591 - accuracy: 0.9103 - val_loss: 0.3115 - val_accuracy: 0.8991\n",
            "Epoch 4/10\n",
            "1875/1875 [==============================] - 214s 114ms/step - loss: 0.2425 - accuracy: 0.9157 - val_loss: 0.2663 - val_accuracy: 0.9100\n",
            "Epoch 5/10\n",
            "1875/1875 [==============================] - 215s 114ms/step - loss: 0.2339 - accuracy: 0.9226 - val_loss: 0.3208 - val_accuracy: 0.9069\n",
            "Epoch 6/10\n",
            "1875/1875 [==============================] - 214s 114ms/step - loss: 0.2291 - accuracy: 0.9231 - val_loss: 0.2956 - val_accuracy: 0.9004\n",
            "Epoch 7/10\n",
            "1875/1875 [==============================] - 214s 114ms/step - loss: 0.2220 - accuracy: 0.9258 - val_loss: 0.3221 - val_accuracy: 0.9044\n",
            "Epoch 8/10\n",
            "1875/1875 [==============================] - 213s 113ms/step - loss: 0.2156 - accuracy: 0.9275 - val_loss: 0.3336 - val_accuracy: 0.9105\n",
            "Epoch 9/10\n",
            "1875/1875 [==============================] - 213s 114ms/step - loss: 0.2128 - accuracy: 0.9300 - val_loss: 0.3401 - val_accuracy: 0.9112\n",
            "Epoch 10/10\n",
            "1875/1875 [==============================] - 214s 114ms/step - loss: 0.2037 - accuracy: 0.9331 - val_loss: 0.3127 - val_accuracy: 0.9131\n"
          ]
        }
      ]
    },
    {
      "cell_type": "code",
      "source": [
        "test_loss, test_accuracy = fine_model.evaluate(x_test, y_test)\n",
        "print(f\"Test accuracy: {test_accuracy * 100:.2f}\")"
      ],
      "metadata": {
        "colab": {
          "base_uri": "https://localhost:8080/"
        },
        "id": "P0AX0TTqqNt3",
        "outputId": "cdbf7a2d-f645-4e55-d0f7-d745f7e71786"
      },
      "execution_count": 30,
      "outputs": [
        {
          "output_type": "stream",
          "name": "stdout",
          "text": [
            "313/313 [==============================] - 17s 55ms/step - loss: 0.3127 - accuracy: 0.9131\n",
            "Test accuracy: 91.31\n"
          ]
        }
      ]
    },
    {
      "cell_type": "code",
      "source": [
        "extend_model = models.Sequential([\n",
        "    base_model,\n",
        "    layers.Flatten(),\n",
        "    layers.Dense(256, activation=\"relu\"),\n",
        "    layers.Dropout(0.3),\n",
        "    layers.Dense(10, activation=\"softmax\")\n",
        "])\n",
        "\n"
      ],
      "metadata": {
        "id": "p5a87wtMg-O-"
      },
      "execution_count": 31,
      "outputs": []
    },
    {
      "cell_type": "code",
      "source": [
        "extend_model.compile(optimizer=RMSprop(learning_rate=1e-4),\n",
        "              loss=\"sparse_categorical_crossentropy\",\n",
        "              metrics=[\"accuracy\"])"
      ],
      "metadata": {
        "id": "phI96Aqmq64q"
      },
      "execution_count": 33,
      "outputs": []
    },
    {
      "cell_type": "code",
      "source": [
        "ext_history = extend_model.fit(datagen.flow(x_train, y_train, batch_size=32),\n",
        "                         epochs=10,\n",
        "                         validation_data=(x_test, y_test))"
      ],
      "metadata": {
        "colab": {
          "base_uri": "https://localhost:8080/"
        },
        "id": "zVFxdJ1Xpfta",
        "outputId": "3c62add1-f076-4e21-c49d-427e6543f93b"
      },
      "execution_count": 34,
      "outputs": [
        {
          "output_type": "stream",
          "name": "stdout",
          "text": [
            "Epoch 1/10\n",
            "1875/1875 [==============================] - 217s 115ms/step - loss: 0.5898 - accuracy: 0.8027 - val_loss: 0.2930 - val_accuracy: 0.9058\n",
            "Epoch 2/10\n",
            "1875/1875 [==============================] - 214s 114ms/step - loss: 0.4364 - accuracy: 0.8496 - val_loss: 0.3278 - val_accuracy: 0.8998\n",
            "Epoch 3/10\n",
            "1875/1875 [==============================] - 214s 114ms/step - loss: 0.4164 - accuracy: 0.8556 - val_loss: 0.3071 - val_accuracy: 0.8969\n",
            "Epoch 4/10\n",
            "1875/1875 [==============================] - 214s 114ms/step - loss: 0.4092 - accuracy: 0.8581 - val_loss: 0.2981 - val_accuracy: 0.9010\n",
            "Epoch 5/10\n",
            "1875/1875 [==============================] - 216s 115ms/step - loss: 0.4132 - accuracy: 0.8588 - val_loss: 0.2840 - val_accuracy: 0.9072\n",
            "Epoch 6/10\n",
            "1875/1875 [==============================] - 215s 115ms/step - loss: 0.4134 - accuracy: 0.8593 - val_loss: 0.3457 - val_accuracy: 0.8992\n",
            "Epoch 7/10\n",
            "1875/1875 [==============================] - 215s 114ms/step - loss: 0.4157 - accuracy: 0.8602 - val_loss: 0.3032 - val_accuracy: 0.9036\n",
            "Epoch 8/10\n",
            "1875/1875 [==============================] - 215s 114ms/step - loss: 0.4231 - accuracy: 0.8592 - val_loss: 0.3049 - val_accuracy: 0.9008\n",
            "Epoch 9/10\n",
            "1875/1875 [==============================] - 215s 115ms/step - loss: 0.4272 - accuracy: 0.8604 - val_loss: 0.4369 - val_accuracy: 0.8785\n",
            "Epoch 10/10\n",
            "1875/1875 [==============================] - 214s 114ms/step - loss: 0.4290 - accuracy: 0.8590 - val_loss: 0.3881 - val_accuracy: 0.8898\n"
          ]
        }
      ]
    },
    {
      "cell_type": "code",
      "source": [
        "test_loss, test_accuracy = extend_model.evaluate(x_test, y_test)\n",
        "print(f\"Test accuracy: {test_accuracy * 100:.2f}\")"
      ],
      "metadata": {
        "colab": {
          "base_uri": "https://localhost:8080/"
        },
        "id": "lkiZvtobpx1F",
        "outputId": "fc3d17d0-beb4-4773-ed78-d695c29e9a81"
      },
      "execution_count": 35,
      "outputs": [
        {
          "output_type": "stream",
          "name": "stdout",
          "text": [
            "313/313 [==============================] - 17s 55ms/step - loss: 0.3881 - accuracy: 0.8898\n",
            "Test accuracy: 88.98\n"
          ]
        }
      ]
    },
    {
      "cell_type": "markdown",
      "source": [
        "# Висновок:\n",
        "\n",
        "Точність моделі що наслідувала від VGG16 становить 91.31%\n",
        "Точність моделі що навчалась додатково отримала результат у 88.98%"
      ],
      "metadata": {
        "id": "gRBwBAiZx73N"
      }
    },
    {
      "cell_type": "code",
      "source": [],
      "metadata": {
        "id": "KTeQnzHnzgs9"
      },
      "execution_count": null,
      "outputs": []
    }
  ]
}